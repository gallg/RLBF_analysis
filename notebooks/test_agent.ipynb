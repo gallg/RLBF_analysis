{
 "cells": [
  {
   "cell_type": "code",
   "execution_count": 1,
   "metadata": {},
   "outputs": [],
   "source": [
    "import sys\n",
    "import os\n",
    "base_path = \"/home/ubuntu/Projects/RL_sim/\"\n",
    "sys.path.insert(0, base_path)\n",
    "os.chdir(base_path)\n",
    "\n",
    "from agents.soft_q_learner import SoftQAgent\n",
    "from agents.utils import *\n",
    "from PIL.ImageOps import invert\n",
    "from posixpath import join\n",
    "from PIL import Image\n",
    "from IPython import display\n",
    "\n",
    "import matplotlib.pyplot as plt\n",
    "import gymnasium as gym\n",
    "import checkerboard_env\n",
    "import pandas as pd\n",
    "import numpy as np\n",
    "import time"
   ]
  },
  {
   "cell_type": "code",
   "execution_count": 2,
   "metadata": {},
   "outputs": [],
   "source": [
    "table = np.random.normal(0, 1, (10, 10))\n",
    "kernel = generate_gaussian_kernel(5, 2)"
   ]
  },
  {
   "cell_type": "code",
   "execution_count": 3,
   "metadata": {},
   "outputs": [
    {
     "data": {
      "text/plain": [
       "<matplotlib.image.AxesImage at 0x7f2100f0b0a0>"
      ]
     },
     "execution_count": 3,
     "metadata": {},
     "output_type": "execute_result"
    },
    {
     "data": {
      "image/png": "[encoded data removed]",
      "text/plain": [
       "<Figure size 432x288 with 1 Axes>"
      ]
     },
     "metadata": {
      "needs_background": "light"
     },
     "output_type": "display_data"
    }
   ],
   "source": [
    "plt.imshow(table)"
   ]
  },
  {
   "cell_type": "code",
   "execution_count": 4,
   "metadata": {},
   "outputs": [
    {
     "name": "stdout",
     "output_type": "stream",
     "text": [
      "0.36787944117144233 1.0\n"
     ]
    },
    {
     "data": {
      "image/png": "[encoded data removed]",
      "text/plain": [
       "<Figure size 432x288 with 1 Axes>"
      ]
     },
     "metadata": {
      "needs_background": "light"
     },
     "output_type": "display_data"
    }
   ],
   "source": [
    "plt.imshow(kernel, vmin=0)\n",
    "print(np.min(kernel), np.max(kernel))"
   ]
  },
  {
   "cell_type": "code",
   "execution_count": 5,
   "metadata": {},
   "outputs": [],
   "source": [
    "from itertools import product\n",
    "\n",
    "# Add parameter search;\n",
    "parameters = {\n",
    "    'snr': [2.0],\n",
    "    'n_bins': [10],\n",
    "    'q_mean': [0],\n",
    "    'q_sigma': [0.1],\n",
    "    'kernel_size': [10],\n",
    "    'kernel_sigma': [2.0],\n",
    "    'learning_rate': [0.1],\n",
    "    'temperature': [0.5],\n",
    "    'min_temperature': [1e-5],\n",
    "    'max_temperature': [1.0],\n",
    "    'reduce_temperature': [False],\n",
    "    'decay_rate': [0.001]\n",
    "}\n",
    "\n",
    "# Generate all possible combinations\n",
    "combinations = list(product(*parameters.values()))\n",
    "\n",
    "# Convert the combinations into a list of dictionaries\n",
    "parameter_combinations = [dict(zip(parameters.keys(), values)) for values in combinations]\n",
    "\n",
    "# use one combination:\n",
    "params = parameter_combinations[0]"
   ]
  },
  {
   "cell_type": "code",
   "execution_count": 6,
   "metadata": {},
   "outputs": [],
   "source": [
    "def load_checkerboard(img, cross):\n",
    "    \n",
    "    board = Image.open(img)\n",
    "    cross = Image.open(cross)\n",
    "\n",
    "    if board.mode == 'RGBA':\n",
    "        r,g,b,a = board.split()\n",
    "        rgb_image = Image.merge('RGB', (r,g,b))\n",
    "        rgb_inverse = invert(rgb_image)\n",
    "\n",
    "        r2,g2,b2 = rgb_inverse.split()\n",
    "        inverse = Image.merge('RGBA', (r2,g2,b2,a))\n",
    "\n",
    "    else:\n",
    "        inverse = invert(board)\n",
    "    \n",
    "    return board, inverse, cross"
   ]
  },
  {
   "cell_type": "code",
   "execution_count": 7,
   "metadata": {},
   "outputs": [
    {
     "data": {
      "image/png": "[encoded data removed]",
      "text/plain": [
       "<Figure size 432x288 with 1 Axes>"
      ]
     },
     "metadata": {
      "needs_background": "light"
     },
     "output_type": "display_data"
    }
   ],
   "source": [
    "assets_path = \"checkerboard_env/assets/\"\n",
    "board, inverse, cross = load_checkerboard(\n",
    "    join(base_path, assets_path + \"checkerboard.png\"),\n",
    "    join(base_path, assets_path + \"cross.png\")\n",
    ")\n",
    "\n",
    "env = gym.make('checkerboard-v0',\n",
    "        render_mode=None,\n",
    "        checkerboard=board,\n",
    "        inverse=inverse,\n",
    "        cross=cross,\n",
    "        snr=params[\"snr\"])\n",
    "\n",
    "NUM_BINS = params[\"n_bins\"]\n",
    "BINS = create_bins(NUM_BINS)\n",
    "\n",
    "q_table_shape = (NUM_BINS, NUM_BINS)  # contrast * frequency;\n",
    "q_table = np.random.normal(params[\"q_mean\"], params[\"q_sigma\"], q_table_shape)\n",
    "kernel = generate_gaussian_kernel(params[\"kernel_size\"], params[\"kernel_sigma\"])\n",
    "\n",
    "model = SoftQAgent(\n",
    "    env,\n",
    "    q_table,\n",
    "    kernel,\n",
    "    learning_rate=params[\"learning_rate\"],\n",
    "    temperature=params[\"temperature\"],\n",
    "    min_temperature=params[\"min_temperature\"],\n",
    "    max_temperature=params[\"max_temperature\"],\n",
    "    reduce_temperature=params[\"reduce_temperature\"],\n",
    "    decay_rate=params[\"decay_rate\"],\n",
    "    num_bins_per_obs=NUM_BINS\n",
    ")\n",
    "\n",
    "initial_state = model.env.reset()[0]\n",
    "discrete_state = discretize_observation(initial_state, BINS)\n",
    "\n",
    "# Create a figure for the Q-table visualization\n",
    "fig, ax = plt.subplots()\n",
    "\n",
    "# fit the model;\n",
    "for current_epoch in range(100):\n",
    "    action = model.soft_q_action_selection()\n",
    "\n",
    "    (next_state,\n",
    "    reward,\n",
    "    terminated,\n",
    "    truncated,\n",
    "    info) = model.env.step(action)\n",
    "\n",
    "    # grab current q-value;\n",
    "    old_q_value = model.q_table[discrete_state]\n",
    "\n",
    "    # discretize the next state;\n",
    "    next_state_discrete = discretize_observation(next_state, BINS)\n",
    "\n",
    "    # compute next q-value and update q-table;\n",
    "    model.q_table = model.update_q_table(reward, next_state_discrete, old_q_value)\n",
    "\n",
    "    # update state;\n",
    "    discrete_state = next_state_discrete\n",
    "\n",
    "    # by default keep temperature constant;\n",
    "    model.reduce_temperature(current_epoch, reduce=model.reduce_temp)\n",
    "    model.reward_log.append(reward)\n",
    "\n",
    "    # Display the Q-table\n",
    "    ax.imshow(model.q_table, cmap='viridis', vmin=0, vmax=1.0)\n",
    "    display.display(fig)\n",
    "    display.clear_output(wait=True)\n",
    "\n",
    "    # Optional: You can add a small delay to make the visualization smoother\n",
    "    time.sleep(0.1)\n"
   ]
  },
  {
   "cell_type": "markdown",
   "metadata": {},
   "source": [
    "### Calculate reward as % signal change"
   ]
  },
  {
   "cell_type": "code",
   "execution_count": 140,
   "metadata": {},
   "outputs": [
    {
     "data": {
      "text/plain": [
       "[<matplotlib.lines.Line2D at 0x7f989d83ba90>]"
      ]
     },
     "execution_count": 140,
     "metadata": {},
     "output_type": "execute_result"
    },
    {
     "data": {
      "image/png": "[encoded data removed]",
      "text/plain": [
       "<Figure size 432x288 with 1 Axes>"
      ]
     },
     "metadata": {
      "needs_background": "light"
     },
     "output_type": "display_data"
    }
   ],
   "source": [
    "import numpy as np\n",
    "import matplotlib.pyplot as plt\n",
    "\n",
    "# Parameters\n",
    "total_datapoints = 200\n",
    "baseline_datapoints = 100\n",
    "signal_datapoints = 50\n",
    "\n",
    "# Generate time vector\n",
    "time = np.linspace(0, 1, total_datapoints)\n",
    "\n",
    "# Generate baseline part\n",
    "baseline_amplitude = 0.8\n",
    "baseline = baseline_amplitude * np.sin(2 * np.pi * 1 * time[:baseline_datapoints])\n",
    "\n",
    "# Generate signal part with undershoots\n",
    "signal_amplitude = 1.2\n",
    "undershoot_amplitude = 0.5\n",
    "signal = (\n",
    "    signal_amplitude * np.sin(2 * np.pi * 2 * time[baseline_datapoints : baseline_datapoints + signal_datapoints])\n",
    "    - undershoot_amplitude * np.sin(2 * np.pi * 4 * time[baseline_datapoints : baseline_datapoints + signal_datapoints])\n",
    ")\n",
    "\n",
    "# Combine baseline and signal\n",
    "time_series = np.concatenate((baseline, signal))\n",
    "\n",
    "# calculate % signal change;\n",
    "baseline = np.mean(time_series[:100])\n",
    "signal = np.mean(time_series[100:])\n",
    "\n",
    "plt.plot(time_series)"
   ]
  },
  {
   "cell_type": "code",
   "execution_count": 141,
   "metadata": {},
   "outputs": [
    {
     "data": {
      "image/png": "[encoded data removed]",
      "text/plain": [
       "<Figure size 432x288 with 1 Axes>"
      ]
     },
     "metadata": {
      "needs_background": "light"
     },
     "output_type": "display_data"
    }
   ],
   "source": [
    "from nilearn.glm.first_level import compute_regressor\n",
    "\n",
    "def generate_hrf_regressor(time_length, duration, onset, amplitude, tr=1.0):\n",
    "\n",
    "    frame_times = np.linspace(0, time_length * tr, time_length)\n",
    "    exp_condition = np.array((onset, duration, amplitude)).reshape(3, 1)\n",
    "\n",
    "    # Compute convolved HRF function;\n",
    "    signal, _ = compute_regressor(\n",
    "        exp_condition,\n",
    "        \"spm\",\n",
    "        frame_times,\n",
    "        con_id=\"block\"\n",
    "    )\n",
    "    return signal\n",
    "\n",
    "hrf = generate_hrf_regressor(150, 20, 115, 1, tr=1.0)\n",
    "plt.figure()\n",
    "plt.plot(hrf)\n",
    "plt.plot(time_series)\n",
    "plt.show()"
   ]
  },
  {
   "cell_type": "code",
   "execution_count": 142,
   "metadata": {},
   "outputs": [
    {
     "data": {
      "text/plain": [
       "[<matplotlib.lines.Line2D at 0x7f989d656b80>]"
      ]
     },
     "execution_count": 142,
     "metadata": {},
     "output_type": "execute_result"
    },
    {
     "data": {
      "image/png": "[encoded data removed]",
      "text/plain": [
       "<Figure size 432x288 with 1 Axes>"
      ]
     },
     "metadata": {
      "needs_background": "light"
     },
     "output_type": "display_data"
    }
   ],
   "source": [
    "base = (time_series[:100] / np.mean(time_series[:100])) * 100\n",
    "sig = (time_series[100:] / np.mean(time_series)) * 100\n",
    "\n",
    "base_sig = np.hstack([base, sig])\n",
    "plt.plot(base_sig)"
   ]
  },
  {
   "cell_type": "code",
   "execution_count": 143,
   "metadata": {},
   "outputs": [
    {
     "data": {
      "text/plain": [
       "1.2885046753309786"
      ]
     },
     "execution_count": 143,
     "metadata": {},
     "output_type": "execute_result"
    }
   ],
   "source": [
    "import statsmodels.api as sm\n",
    "\n",
    "def run_glm(y, x):\n",
    "    x = sm.add_constant(x)\n",
    "    return sm.OLS(y, x).fit().params[-1]\n",
    "\n",
    "run_glm(base_sig, hrf) / 100"
   ]
  }
 ],
 "metadata": {
  "kernelspec": {
   "display_name": "Python 3",
   "language": "python",
   "name": "python3"
  },
  "language_info": {
   "codemirror_mode": {
    "name": "ipython",
    "version": 3
   },
   "file_extension": ".py",
   "mimetype": "text/x-python",
   "name": "python",
   "nbconvert_exporter": "python",
   "pygments_lexer": "ipython3",
   "version": "3.8.10"
  }
 },
 "nbformat": 4,
 "nbformat_minor": 2
}
