{
 "cells": [
  {
   "cell_type": "code",
   "execution_count": 1,
   "metadata": {},
   "outputs": [],
   "source": [
    "import sys\n",
    "import os\n",
    "base_path = \"/home/ubuntu/Projects/RL_sim/\"\n",
    "sys.path.insert(0, base_path)\n",
    "os.chdir(base_path)\n",
    "\n",
    "from agents.soft_q_learner import SoftQAgent\n",
    "from agents.utils import *\n",
    "from posixpath import join\n",
    "from PIL.ImageOps import invert\n",
    "from PIL import Image\n",
    "from IPython import display\n",
    "\n",
    "import matplotlib.pyplot as plt\n",
    "import gymnasium as gym\n",
    "import checkerboard_env\n",
    "import pandas as pd\n",
    "import numpy as np\n",
    "import time"
   ]
  },
  {
   "cell_type": "code",
   "execution_count": 2,
   "metadata": {},
   "outputs": [],
   "source": [
    "from itertools import product\n",
    "\n",
    "# Add parameter search;\n",
    "parameters = {\n",
    "    'snr': [3.3], #3.31],\n",
    "    'n_bins': [10],\n",
    "    'q_mean': [0],\n",
    "    'q_sigma': [0.1],\n",
    "    'kernel_size': [20],       # n_bins + 2\n",
    "    'kernel_sigma': [4.0],     # >= n_bins**2 / n_epochs\n",
    "    'learning_rate': [0.1],\n",
    "    'temperature': [0.05],\n",
    "    'min_temperature': [1e-5],\n",
    "    'max_temperature': [1.0],\n",
    "    'reduce_temperature': [False],\n",
    "    'decay_rate': [0.001]\n",
    "}\n",
    "\n",
    "# Generate all possible combinations\n",
    "combinations = list(product(*parameters.values()))\n",
    "\n",
    "# Convert the combinations into a list of dictionaries\n",
    "parameter_combinations = [dict(zip(parameters.keys(), values)) for values in combinations]\n",
    "\n",
    "# use one combination:\n",
    "params = parameter_combinations[0]"
   ]
  },
  {
   "cell_type": "code",
   "execution_count": 3,
   "metadata": {},
   "outputs": [],
   "source": [
    "# Convergence;\n",
    "# def euclidean_2D(x, v):\n",
    "#     distance = [np.sqrt(np.sum([(b[0] - a[0])**2, (b[1] - a[1])**2])) for a, b in zip(x, v)]\n",
    "#     return np.mean(distance)\n",
    "\n",
    "# def test_convergence(maxima, window_size):\n",
    "#     return euclidean_2D(maxima[-window_size:-1], maxima[-(window_size-1):])"
   ]
  },
  {
   "cell_type": "code",
   "execution_count": 4,
   "metadata": {},
   "outputs": [],
   "source": [
    "def load_checkerboard(img, cross):\n",
    "    \n",
    "    board = Image.open(img)\n",
    "    cross = Image.open(cross)\n",
    "\n",
    "    if board.mode == 'RGBA':\n",
    "        r,g,b,a = board.split()\n",
    "        rgb_image = Image.merge('RGB', (r,g,b))\n",
    "        rgb_inverse = invert(rgb_image)\n",
    "\n",
    "        r2,g2,b2 = rgb_inverse.split()\n",
    "        inverse = Image.merge('RGBA', (r2,g2,b2,a))\n",
    "\n",
    "    else:\n",
    "        inverse = invert(board)\n",
    "    \n",
    "    return board, inverse, cross\n",
    "\n",
    "def euclidean_2D(x, v):\n",
    "    x = np.array(x)\n",
    "    v = np.array(v)\n",
    "    distance = np.linalg.norm(x - v, axis=1)\n",
    "    return np.mean(distance)\n",
    "\n",
    "def test_convergence(maxima, current_window_size):\n",
    "    previous_window = maxima[-current_window_size:-1]\n",
    "    current_window = maxima[-(current_window_size - 1):]\n",
    "    return euclidean_2D(previous_window, current_window)\n"
   ]
  },
  {
   "cell_type": "code",
   "execution_count": 5,
   "metadata": {},
   "outputs": [
    {
     "data": {
      "image/png": "[encoded data removed]",
      "text/plain": [
       "<Figure size 720x288 with 2 Axes>"
      ]
     },
     "metadata": {
      "needs_background": "light"
     },
     "output_type": "display_data"
    }
   ],
   "source": [
    "assets_path = \"checkerboard_env/assets/\"\n",
    "board, inverse, cross = load_checkerboard(\n",
    "    join(base_path, assets_path + \"checkerboard.png\"),\n",
    "    join(base_path, assets_path + \"cross.png\")\n",
    ")\n",
    "\n",
    "env = gym.make('checkerboard-v0',\n",
    "        render_mode=None,\n",
    "        checkerboard=board,\n",
    "        inverse=inverse,\n",
    "        cross=cross,\n",
    "        snr=params[\"snr\"])\n",
    "\n",
    "NUM_BINS = params[\"n_bins\"]\n",
    "BINS = create_bins(NUM_BINS)\n",
    "\n",
    "q_table_shape = (NUM_BINS, NUM_BINS)  # contrast * frequency;\n",
    "# q_table = np.random.normal(params[\"q_mean\"], params[\"q_sigma\"], q_table_shape)\n",
    "q_table = np.ones(q_table_shape)*0.5\n",
    "kernel = generate_gaussian_kernel(params[\"kernel_size\"], params[\"kernel_sigma\"])\n",
    "\n",
    "model = SoftQAgent(\n",
    "    env,\n",
    "    q_table,\n",
    "    kernel,\n",
    "    learning_rate=params[\"learning_rate\"],\n",
    "    temperature=params[\"temperature\"],\n",
    "    min_temperature=params[\"min_temperature\"],\n",
    "    max_temperature=params[\"max_temperature\"],\n",
    "    reduce_temperature=params[\"reduce_temperature\"],\n",
    "    decay_rate=params[\"decay_rate\"],\n",
    "    num_bins_per_obs=NUM_BINS\n",
    ")\n",
    "\n",
    "initial_state = model.env.reset()[0]\n",
    "discrete_state = discretize_observation(initial_state, BINS)\n",
    "\n",
    "# Create a figure for the Q-table visualization\n",
    "fig, (ax1, ax2) = plt.subplots(nrows=1, ncols=2, figsize=(10, 4))\n",
    "\n",
    "n_epochs = 60\n",
    "window = 5\n",
    "maxima = []\n",
    "convergence = []\n",
    "\n",
    "# fit the model;\n",
    "for current_epoch in range(n_epochs):\n",
    "    if current_epoch == 0:\n",
    "        action = initial_state\n",
    "\n",
    "    (observation,\n",
    "    reward,\n",
    "    terminated,\n",
    "    truncated,\n",
    "    info) = model.env.step(action)\n",
    "\n",
    "    # grab current q-value;\n",
    "    old_q_value = model.q_table[discrete_state]\n",
    "\n",
    "    # compute next q-value and update q-table;\n",
    "    model.q_table = model.update_q_table(reward, discrete_state, old_q_value)\n",
    "    action = model.soft_q_action_selection()\n",
    "\n",
    "    # update and discretize the next state;\n",
    "    next_state_discrete = discretize_observation(action, BINS)\n",
    "    discrete_state = next_state_discrete\n",
    "\n",
    "    # by default keep temperature constant;\n",
    "    model.reduce_temperature(current_epoch, reduce=model.reduce_temp)\n",
    "    model.reward_log.append(reward)\n",
    "\n",
    "    # compute the norm of the difference from the previous max location to this\n",
    "    # look at the average of this norm fro the last x (3-5) trials\n",
    "    max_index = np.unravel_index(np.argmax(model.q_table), q_table_shape)\n",
    "    maxima.append(max_index)\n",
    "\n",
    "    if len(maxima) >= window:\n",
    "        convergence.append(test_convergence(maxima, window))\n",
    "\n",
    "    # Display the Q-table\n",
    "    ax1.imshow(model.q_table, cmap='viridis', vmin=0, vmax=1.0)\n",
    "    ax1.plot(action[1]*NUM_BINS, action[0]*NUM_BINS, \"o\")\n",
    "    ax2.plot(convergence)\n",
    "    display.display(fig)\n",
    "    display.clear_output(wait=True)\n",
    "    \n",
    "    # Optional: You can add a small delay to make the visualization smoother\n",
    "    time.sleep(0.1)"
   ]
  },
  {
   "cell_type": "code",
   "execution_count": 7,
   "metadata": {},
   "outputs": [
    {
     "data": {
      "text/plain": [
       "[<matplotlib.lines.Line2D at 0x7fb66efad910>]"
      ]
     },
     "execution_count": 7,
     "metadata": {},
     "output_type": "execute_result"
    },
    {
     "data": {
      "image/png": "[encoded data removed]",
      "text/plain": [
       "<Figure size 432x288 with 1 Axes>"
      ]
     },
     "metadata": {
      "needs_background": "light"
     },
     "output_type": "display_data"
    }
   ],
   "source": [
    "plt.plot(model.reward_log)"
   ]
  },
  {
   "cell_type": "code",
   "execution_count": null,
   "metadata": {},
   "outputs": [],
   "source": []
  }
 ],
 "metadata": {
  "kernelspec": {
   "display_name": "Python 3",
   "language": "python",
   "name": "python3"
  },
  "language_info": {
   "codemirror_mode": {
    "name": "ipython",
    "version": 3
   },
   "file_extension": ".py",
   "mimetype": "text/x-python",
   "name": "python",
   "nbconvert_exporter": "python",
   "pygments_lexer": "ipython3",
   "version": "3.8.10"
  }
 },
 "nbformat": 4,
 "nbformat_minor": 2
}
