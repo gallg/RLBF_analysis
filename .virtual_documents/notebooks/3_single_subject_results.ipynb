


import os
os.chdir("..")

from agents.utils import create_bins, discretize_observation
import matplotlib.pyplot as plt
from scipy import stats
import seaborn as sns
import numpy as np
import pandas as pd
import json
import ast


## NEEDED FUNCTIONS;

def read_json_log(log):
    with open(log, "rb") as f:
        log = json.load(f)
    return log
    
def json_array_to_list(arr):
    return ast.literal_eval(arr)

def pad_to_max_length(arr, max_length):
    return np.pad(arr, (0, max_length - len(arr)), mode='constant', constant_values=0)

def score_datapoints(arr):
    mu = np.mean(arr)
    sigma = np.std(arr)
    return np.abs(arr - mu) < sigma

def calculate_snr(log):
    if isinstance(log, str):
        log = read_json_log(log)
    reward = np.array(json_array_to_list(log[-1]["reward"]))
    return reward.mean() / reward.std()

def plot_reward(log, sub, run):
    log_data = read_json_log(log)
    reward = json_array_to_list(log_data[-1]["reward"])
    convergence = json_array_to_list(log_data[-1]["convergence"])
    size = range(len(reward))
    snr = np.float16(calculate_snr(log_data))

    df = pd.DataFrame(columns=["trial", "reward", "convergence"])
    df["trial"] = size
    df["reward"] = reward
    df["convergence"] = pad_to_max_length(convergence, len(reward))

    df_filtered = df[score_datapoints(df["reward"])].copy()

    fig, axes = plt.subplots(2, 1, figsize=(10, 8), sharex=True)

    # --- Main Figure Title ---
    fig.suptitle(f"{sub}; Run {run}", fontsize=18)

    # --- First Subplot: Reward ---
    sns.regplot(x="trial", y="reward", data=df_filtered, ax=axes[0])
    axes[0].set_ylabel("Reward", fontsize=14)
    axes[0].tick_params(axis='y', labelsize=12)
    # Subplot title with specific metrics
    axes[0].set_title(f"SNR: {snr:.2f}, Kernel Sigma: 4.0", fontsize=14)

    # --- Second Subplot: Convergence ---
    axes[1].plot(df_filtered["trial"], df_filtered["convergence"])
    axes[1].set_xlabel("Trials", fontsize=14)
    axes[1].set_ylabel("Convergence", fontsize=14)
    axes[1].tick_params(axis='x', labelsize=12)
    axes[1].tick_params(axis='y', labelsize=12)

    plt.tight_layout(rect=[0, 0.03, 1, 0.95])
    plt.show()

def get_q_table_max(log, table_size):
    maxima = []
    for table in log:
        q_table = json_array_to_list(table["q_table"])
        maxima.append(np.unravel_index(np.argmax(q_table), table_size))
    return maxima

def get_q_table_steps(log, num_bins):
    steps = []
    for data in log:
        contrast = data["contrast"]
        frequency = data["frequency"]
        bins = create_bins(num_bins)
        steps.append(discretize_observation([contrast, frequency], bins))
    return steps

def plot_q_table_steps(log, session, subject):
    log = read_json_log(log)
    last_table = np.array(json_array_to_list(log[-1]["q_table"])).reshape(10, 10)
    maxima = np.array(get_q_table_steps(log, 10)) + 1 # adjust discretization;
    steps = np.random.randint(0, len(maxima), len(maxima))

    plt.imshow(last_table)
    plt.xlabel("Frequency", fontsize=16)
    plt.ylabel("Contrast", fontsize=16)
    plt.colorbar().set_label("Q-value", fontsize=16)
    plt.plot(maxima[:, 1], maxima[:, 0], "--", alpha=0.4)
    plt.scatter(maxima[:, 1], maxima[:, 0], c=steps, cmap='plasma', alpha=0.5)
    plt.colorbar().set_label("Trial number", fontsize=16)
    plt.title(f"{subject}, fMRI - Run {session}", fontsize=20)
    plt.show()






for sub in ["sub-001", "sub-002", "sub-003", "sub-004", "sub-005", "sub-006", "sub-007", "sub-008", "sub-009", "sub-010"]:
    logs = [
        f"./data/{sub}/data_1/log/log.json", 
        f"./data/{sub}/data_2/log/log.json"
    ]
    
    for run, log in enumerate(logs):
        plot_reward(log, sub, run)





for sub in ["sub-001", "sub-002", "sub-003", "sub-004", "sub-005", "sub-006", "sub-007", "sub-008", "sub-009", "sub-010"]:
    logs = [
        f"./data/{sub}/data_1/log/log.json",
        f"./data/{sub}/data_2/log/log.json"
    ]

    for idx, log in enumerate(logs):
        subject = log.split("/")[-4]
        plot_q_table_steps(log, idx + 1, subject)





for sub in ["sub-001", "sub-002", "sub-003", "sub-004", "sub-005", "sub-006", "sub-007", "sub-008", "sub-009", "sub-010"]:
    logs = [
        f"./data/{sub}/data_1/log/log.json",
        f"./data/{sub}/data_2/log/log.json"
    ]

    n_plot = 0
    fig, axs = plt.subplots(1, 2, figsize=(12, 4))

    for log in logs:

        log = read_json_log(log)
        reward = json_array_to_list(log[-1]["reward"])
        rolling_mean = pd.Series(reward).rolling(window=3).mean()

        # plot reward;
        axs[n_plot].set_title(f"{sub}, Run: {n_plot}")
        axs[n_plot].plot(reward)
        axs[n_plot].plot(rolling_mean.to_numpy())
        axs[n_plot].set_xlabel("epochs")
        axs[n_plot].set_ylabel("reward")
        n_plot += 1
        
    plt.legend(["reward", "rolling mean"])





for sub in ["sub-001", "sub-002", "sub-003", "sub-004", "sub-005", "sub-006", "sub-007", "sub-008", "sub-009", "sub-010"]:
    logs = [
        f"./data/{sub}/data_1/log/log.json",
        f"./data/{sub}/data_2/log/log.json"
    ]

    n_plot = 0
    fig, axs = plt.subplots(1, 2, figsize=(12, 4))

    for log in logs:
        log = read_json_log(log)
        max_val = []
        min_val = []

        for idx in range(len(log)):
            table = np.array(json_array_to_list(log[idx]["q_table"]))
            min_val.append(np.min(table))
            max_val.append(np.max(table))


        # plot reward;
        axs[n_plot].set_title(f"{sub}, Run: {n_plot}")
        axs[n_plot].plot(min_val)
        axs[n_plot].plot(max_val)
        axs[n_plot].set_xlabel("epochs")
        axs[n_plot].set_ylabel("Q-values")
        n_plot += 1

        plt.legend(["min Q", "max Q"])
